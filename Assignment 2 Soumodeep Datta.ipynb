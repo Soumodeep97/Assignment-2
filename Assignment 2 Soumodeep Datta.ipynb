{
 "cells": [
  {
   "cell_type": "code",
   "execution_count": 1,
   "metadata": {},
   "outputs": [
    {
     "data": {
      "text/plain": [
       "[1, 2, 3, 4, 5, 6, 7, 8]"
      ]
     },
     "execution_count": 1,
     "metadata": {},
     "output_type": "execute_result"
    }
   ],
   "source": [
    "#Q1. removing empty List from List.\n",
    "list1=[1,2,3,4,[],5,6,7,8,[]]\n",
    "list(filter(None,list1))"
   ]
  },
  {
   "cell_type": "code",
   "execution_count": 2,
   "metadata": {},
   "outputs": [
    {
     "name": "stdout",
     "output_type": "stream",
     "text": [
      "enter any sentence  hello hello how how are are you you\n",
      "The original sentence is  hello hello how how are are you you\n",
      "The corrected sentence is   hello how are you \n"
     ]
    }
   ],
   "source": [
    "#Q2. removing all duplicates words from a given sentence\n",
    "str1=input('enter any sentence  ')\n",
    "print('The original sentence is ',str1)\n",
    "str1=str1.split()\n",
    "str2=[]\n",
    "for i in str1:\n",
    "    if i not in str2:\n",
    "        str2.append(i)\n",
    "        str2.append(' ')\n",
    "str1=''\n",
    "for j in str2:\n",
    "    str1=str1+j\n",
    "print('The corrected sentence is  ',str1) "
   ]
  },
  {
   "cell_type": "code",
   "execution_count": 3,
   "metadata": {},
   "outputs": [
    {
     "name": "stdout",
     "output_type": "stream",
     "text": [
      "enter any sentence or word- avengers endgame\n",
      "enter the character to check the frequency of- e\n",
      "e occurs 4 times.\n"
     ]
    }
   ],
   "source": [
    "#Q3. findING all occurrences of a character in the given string\n",
    "string=input('enter any sentence or word- ')\n",
    "character=input('enter the character to check the frequency of- ')\n",
    "f=0\n",
    "for i in string:\n",
    "    if i==character:\n",
    "        f=f+1\n",
    "print(character, 'occurs', f, 'times.') "
   ]
  },
  {
   "cell_type": "code",
   "execution_count": null,
   "metadata": {},
   "outputs": [],
   "source": []
  }
 ],
 "metadata": {
  "kernelspec": {
   "display_name": "Python 3",
   "language": "python",
   "name": "python3"
  },
  "language_info": {
   "codemirror_mode": {
    "name": "ipython",
    "version": 3
   },
   "file_extension": ".py",
   "mimetype": "text/x-python",
   "name": "python",
   "nbconvert_exporter": "python",
   "pygments_lexer": "ipython3",
   "version": "3.8.5"
  }
 },
 "nbformat": 4,
 "nbformat_minor": 4
}
